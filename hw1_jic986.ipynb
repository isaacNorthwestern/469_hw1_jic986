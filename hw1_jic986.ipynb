{
 "cells": [
  {
   "cell_type": "code",
   "execution_count": 28,
   "metadata": {},
   "outputs": [],
   "source": [
    "import numpy as np\n",
    "import itertools\n",
    "import matplotlib.pyplot as plt"
   ]
  },
  {
   "cell_type": "markdown",
   "metadata": {},
   "source": [
    "## Problem Number 1"
   ]
  },
  {
   "cell_type": "code",
   "execution_count": 12,
   "metadata": {
    "tags": []
   },
   "outputs": [],
   "source": [
    "# Define Environment\n",
    "class Environment:\n",
    "    def __init__(self, bus_capacity, cost_deploy, cost_person, station_capacity\n",
    "                     , gamma, possible_actions, arrival_at_station):\n",
    "        # capacity\n",
    "        self.bus_capacity = bus_capacity\n",
    "        self.station_capacity=station_capacity\n",
    "        \n",
    "        # cost         \n",
    "        self.cost_deploy = cost_deploy\n",
    "        self.cost_person = cost_person\n",
    "\n",
    "        # action and state space\n",
    "        self.state_space = np.arange(0, self.station_capacity+1)\n",
    "        self.action_space = np.array(possible_actions)\n",
    "        \n",
    "        # status of station\n",
    "        uniform_probability=1/len(arrival_at_station)\n",
    "        temp = [[i,uniform_probability] for i in arrival_at_station]\n",
    "        self.arrival=np.matrix(temp)\n",
    "        \n",
    "        # discount\n",
    "        self.gamma = gamma\n",
    "\n",
    "    def reward(self, action, state):\n",
    "        return action*self.cost_deploy+state*self.cost_person\n",
    "    \n",
    "    def check_station_capacity(self,state, action):\n",
    "        return state>self.station_capacity"
   ]
  },
  {
   "cell_type": "code",
   "execution_count": 13,
   "metadata": {
    "tags": []
   },
   "outputs": [],
   "source": [
    "# Next step and calculate value\n",
    "def next_step(state, Value, env):\n",
    "        values_at_step = np.zeros(env.action_space.shape[0])\n",
    "        \n",
    "        for action in env.action_space:\n",
    "            if env.check_station_capacity(state,action) and action==0:\n",
    "                # very large negative value so it is not optimal                 \n",
    "                values_at_step[action] = -100000000\n",
    "                continue\n",
    "            \n",
    "            # states\n",
    "            state_after_action = state-action*min(env.bus_capacity,state)\n",
    "            next_possible_states = env.arrival+np.array([state_after_action,0])\n",
    "\n",
    "            # value calculation\n",
    "            expected_value=0\n",
    "            for nps in next_possible_states:\n",
    "                # next possible state cannot be over station_capcity                 \n",
    "                if nps[0,0]<env.state_space.shape[0]:\n",
    "                    expected_value +=  env.gamma * Value[int(nps[0,0])]*nps[0,1]\n",
    "                else:\n",
    "                    break\n",
    "            \n",
    "            calc_value=env.reward(action, state_after_action)+expected_value\n",
    "            values_at_step[action] = calc_value\n",
    "        # retrun values            \n",
    "        return values_at_step"
   ]
  },
  {
   "cell_type": "code",
   "execution_count": 14,
   "metadata": {},
   "outputs": [],
   "source": [
    "# Call environment object\n",
    "env1=Environment(bus_capacity=15, cost_deploy= -100, cost_person= -2, station_capacity=200\n",
    "                , gamma = 0.95, possible_actions=[0,1], arrival_at_station = [1,2,3,4,5])"
   ]
  },
  {
   "cell_type": "markdown",
   "metadata": {
    "tags": []
   },
   "source": [
    "### Problem 1.A"
   ]
  },
  {
   "cell_type": "code",
   "execution_count": 15,
   "metadata": {
    "tags": []
   },
   "outputs": [],
   "source": [
    "def enumeration(T, env):\n",
    "    Value = np.zeros(shape=(T+1,env.state_space.shape[0]))\n",
    "    \n",
    "    for t in range(T-1, -1, -1):\n",
    "        for state in env.state_space:\n",
    "            values_at_step = next_step(state, Value[t+1], env)\n",
    "            Value[t][state] = max(values_at_step)\n",
    "            \n",
    "    return Value"
   ]
  },
  {
   "cell_type": "code",
   "execution_count": 16,
   "metadata": {},
   "outputs": [],
   "source": [
    "enumeration_Value = enumeration(500,env1)"
   ]
  },
  {
   "cell_type": "code",
   "execution_count": 17,
   "metadata": {},
   "outputs": [
    {
     "data": {
      "text/plain": [
       "Text(0, 0.5, 'Value')"
      ]
     },
     "execution_count": 17,
     "metadata": {},
     "output_type": "execute_result"
    },
    {
     "data": {
      "image/png": "[encoded data removed]",
      "text/plain": [
       "<Figure size 432x288 with 1 Axes>"
      ]
     },
     "metadata": {
      "needs_background": "light"
     },
     "output_type": "display_data"
    }
   ],
   "source": [
    "plt.plot(env1.state_space, enumeration_Value[0])\n",
    "plt.xlabel('States')\n",
    "plt.ylabel(\"Value\")"
   ]
  },
  {
   "cell_type": "markdown",
   "metadata": {},
   "source": [
    "### Problem 1.B"
   ]
  },
  {
   "cell_type": "code",
   "execution_count": 18,
   "metadata": {},
   "outputs": [],
   "source": [
    "def value_iteration(T, env):\n",
    "    Value = np.zeros(env.state_space.shape[0])\n",
    "\n",
    "    for t in range(0,T):        \n",
    "        for state in env.state_space:\n",
    "            value_at_step = next_step(state, Value, env)\n",
    "            max_value = np.max(value_at_step)\n",
    "            Value[state] = max_value\n",
    "    \n",
    "    return Value"
   ]
  },
  {
   "cell_type": "code",
   "execution_count": 19,
   "metadata": {},
   "outputs": [],
   "source": [
    "# To estimate limit as T goes to infinity, choose large number for T\n",
    "value_Value = value_iteration(1000,env1)"
   ]
  },
  {
   "cell_type": "code",
   "execution_count": 20,
   "metadata": {},
   "outputs": [
    {
     "data": {
      "text/plain": [
       "Text(0, 0.5, 'Value')"
      ]
     },
     "execution_count": 20,
     "metadata": {},
     "output_type": "execute_result"
    },
    {
     "data": {
      "image/png": "[encoded data removed]",
      "text/plain": [
       "<Figure size 432x288 with 1 Axes>"
      ]
     },
     "metadata": {
      "needs_background": "light"
     },
     "output_type": "display_data"
    }
   ],
   "source": [
    "plt.plot(env1.state_space, Value)\n",
    "plt.xlabel('States')\n",
    "plt.ylabel(\"Value\")"
   ]
  },
  {
   "cell_type": "markdown",
   "metadata": {},
   "source": [
    "### Problem 1.C"
   ]
  },
  {
   "cell_type": "code",
   "execution_count": 21,
   "metadata": {},
   "outputs": [],
   "source": [
    "def policy_evaluation(improvement_threshold, policy, env):    \n",
    "    Value = np.zeros(env.state_space.shape[0])\n",
    "    \n",
    "    while True:\n",
    "        improvement = 0\n",
    "        for state in env.state_space:\n",
    "            value = 0\n",
    "            for action, action_prob in enumerate(policy[state]):\n",
    "                if env.check_station_capacity(state,action):\n",
    "                    action_prob = 1 if action == 1 else 0\n",
    "                    \n",
    "                state_after_action = state - action * min(env.bus_capacity, state)\n",
    "                next_possible_states = env.arrival+np.array([state_after_action,0])\n",
    "                \n",
    "                for nps in next_possible_states:\n",
    "                    if nps[0,0]<env.state_space.shape[0]:\n",
    "                        if action_prob != 0:\n",
    "                            value += action_prob * nps[0,1] * (env.reward(action, state_after_action) + env.gamma * Value[int(nps[0,0])])\n",
    "                    else:\n",
    "                        break\n",
    "                \n",
    "                improvement = max(improvement, np.abs(value - Value[state]))                \n",
    "                Value[state] = value\n",
    "        \n",
    "        if improvement < improvement_threshold:\n",
    "            break\n",
    "\n",
    "    return Value"
   ]
  },
  {
   "cell_type": "code",
   "execution_count": 22,
   "metadata": {},
   "outputs": [],
   "source": [
    "def policy_improvement(env):\n",
    "    policy_space = np.ones([env.state_space.shape[0], env.action_space.shape[0]]) / env.action_space.shape[0]\n",
    "\n",
    "    while True:\n",
    "        Value = policy_evaluation(0.1,policy_space, env)\n",
    "        policy_stable = True\n",
    "        \n",
    "        for state in env.state_space:\n",
    "            action = np.argmax(policy_state[state])\n",
    "            \n",
    "            action_values = next_step(state, Value, env)\n",
    "            best_action = np.argmax(action_values)\n",
    "            \n",
    "            if action != best_action:\n",
    "                policy_stable = False\n",
    "            policy_space[s] = np.eye(env.action_space.shape[0])[best_action]\n",
    "        \n",
    "        if policy_stable:\n",
    "            return  np.array([j for i,j in policy]), Value"
   ]
  },
  {
   "cell_type": "code",
   "execution_count": 23,
   "metadata": {},
   "outputs": [
    {
     "ename": "KeyboardInterrupt",
     "evalue": "",
     "output_type": "error",
     "traceback": [
      "\u001b[1;31m---------------------------------------------------------------------------\u001b[0m",
      "\u001b[1;31mKeyboardInterrupt\u001b[0m                         Traceback (most recent call last)",
      "\u001b[1;32m<ipython-input-23-09e6786f27e4>\u001b[0m in \u001b[0;36m<module>\u001b[1;34m\u001b[0m\n\u001b[0;32m      1\u001b[0m \u001b[1;31m# Functions failed to run, and timed out. I do not know if this is a convergence issue, or some error in the code\u001b[0m\u001b[1;33m\u001b[0m\u001b[1;33m\u001b[0m\u001b[1;33m\u001b[0m\u001b[0m\n\u001b[1;32m----> 2\u001b[1;33m \u001b[0m_\u001b[0m\u001b[1;33m,\u001b[0m \u001b[0mValue\u001b[0m \u001b[1;33m=\u001b[0m \u001b[0mpolicy_improvement\u001b[0m\u001b[1;33m(\u001b[0m\u001b[0menv1\u001b[0m\u001b[1;33m)\u001b[0m\u001b[1;33m\u001b[0m\u001b[1;33m\u001b[0m\u001b[0m\n\u001b[0m",
      "\u001b[1;32m<ipython-input-22-21ba3fe706d5>\u001b[0m in \u001b[0;36mpolicy_improvement\u001b[1;34m(env)\u001b[0m\n\u001b[0;32m      3\u001b[0m \u001b[1;33m\u001b[0m\u001b[0m\n\u001b[0;32m      4\u001b[0m     \u001b[1;32mwhile\u001b[0m \u001b[1;32mTrue\u001b[0m\u001b[1;33m:\u001b[0m\u001b[1;33m\u001b[0m\u001b[1;33m\u001b[0m\u001b[0m\n\u001b[1;32m----> 5\u001b[1;33m         \u001b[0mValue\u001b[0m \u001b[1;33m=\u001b[0m \u001b[0mpolicy_evaluation\u001b[0m\u001b[1;33m(\u001b[0m\u001b[1;36m0.1\u001b[0m\u001b[1;33m,\u001b[0m\u001b[0mpolicy_space\u001b[0m\u001b[1;33m,\u001b[0m \u001b[0menv\u001b[0m\u001b[1;33m)\u001b[0m\u001b[1;33m\u001b[0m\u001b[1;33m\u001b[0m\u001b[0m\n\u001b[0m\u001b[0;32m      6\u001b[0m         \u001b[0mpolicy_stable\u001b[0m \u001b[1;33m=\u001b[0m \u001b[1;32mTrue\u001b[0m\u001b[1;33m\u001b[0m\u001b[1;33m\u001b[0m\u001b[0m\n\u001b[0;32m      7\u001b[0m \u001b[1;33m\u001b[0m\u001b[0m\n",
      "\u001b[1;32m<ipython-input-21-2a0fa8d2ae76>\u001b[0m in \u001b[0;36mpolicy_evaluation\u001b[1;34m(improvement_threshold, policy, env)\u001b[0m\n\u001b[0;32m     11\u001b[0m \u001b[1;33m\u001b[0m\u001b[0m\n\u001b[0;32m     12\u001b[0m                 \u001b[0mstate_after_action\u001b[0m \u001b[1;33m=\u001b[0m \u001b[0mstate\u001b[0m \u001b[1;33m-\u001b[0m \u001b[0maction\u001b[0m \u001b[1;33m*\u001b[0m \u001b[0mmin\u001b[0m\u001b[1;33m(\u001b[0m\u001b[0menv\u001b[0m\u001b[1;33m.\u001b[0m\u001b[0mbus_capacity\u001b[0m\u001b[1;33m,\u001b[0m \u001b[0mstate\u001b[0m\u001b[1;33m)\u001b[0m\u001b[1;33m\u001b[0m\u001b[1;33m\u001b[0m\u001b[0m\n\u001b[1;32m---> 13\u001b[1;33m                 \u001b[0mnext_possible_states\u001b[0m \u001b[1;33m=\u001b[0m \u001b[0menv\u001b[0m\u001b[1;33m.\u001b[0m\u001b[0marrival\u001b[0m\u001b[1;33m+\u001b[0m\u001b[0mnp\u001b[0m\u001b[1;33m.\u001b[0m\u001b[0marray\u001b[0m\u001b[1;33m(\u001b[0m\u001b[1;33m[\u001b[0m\u001b[0mstate_after_action\u001b[0m\u001b[1;33m,\u001b[0m\u001b[1;36m0\u001b[0m\u001b[1;33m]\u001b[0m\u001b[1;33m)\u001b[0m\u001b[1;33m\u001b[0m\u001b[1;33m\u001b[0m\u001b[0m\n\u001b[0m\u001b[0;32m     14\u001b[0m \u001b[1;33m\u001b[0m\u001b[0m\n\u001b[0;32m     15\u001b[0m                 \u001b[1;32mfor\u001b[0m \u001b[0mnps\u001b[0m \u001b[1;32min\u001b[0m \u001b[0mnext_possible_states\u001b[0m\u001b[1;33m:\u001b[0m\u001b[1;33m\u001b[0m\u001b[1;33m\u001b[0m\u001b[0m\n",
      "\u001b[1;32m~\\Anaconda\\lib\\site-packages\\numpy\\matrixlib\\defmatrix.py\u001b[0m in \u001b[0;36m__array_finalize__\u001b[1;34m(self, obj)\u001b[0m\n\u001b[0;32m    165\u001b[0m         \u001b[1;32mreturn\u001b[0m \u001b[0mret\u001b[0m\u001b[1;33m\u001b[0m\u001b[1;33m\u001b[0m\u001b[0m\n\u001b[0;32m    166\u001b[0m \u001b[1;33m\u001b[0m\u001b[0m\n\u001b[1;32m--> 167\u001b[1;33m     \u001b[1;32mdef\u001b[0m \u001b[0m__array_finalize__\u001b[0m\u001b[1;33m(\u001b[0m\u001b[0mself\u001b[0m\u001b[1;33m,\u001b[0m \u001b[0mobj\u001b[0m\u001b[1;33m)\u001b[0m\u001b[1;33m:\u001b[0m\u001b[1;33m\u001b[0m\u001b[1;33m\u001b[0m\u001b[0m\n\u001b[0m\u001b[0;32m    168\u001b[0m         \u001b[0mself\u001b[0m\u001b[1;33m.\u001b[0m\u001b[0m_getitem\u001b[0m \u001b[1;33m=\u001b[0m \u001b[1;32mFalse\u001b[0m\u001b[1;33m\u001b[0m\u001b[1;33m\u001b[0m\u001b[0m\n\u001b[0;32m    169\u001b[0m         \u001b[1;32mif\u001b[0m \u001b[1;33m(\u001b[0m\u001b[0misinstance\u001b[0m\u001b[1;33m(\u001b[0m\u001b[0mobj\u001b[0m\u001b[1;33m,\u001b[0m \u001b[0mmatrix\u001b[0m\u001b[1;33m)\u001b[0m \u001b[1;32mand\u001b[0m \u001b[0mobj\u001b[0m\u001b[1;33m.\u001b[0m\u001b[0m_getitem\u001b[0m\u001b[1;33m)\u001b[0m\u001b[1;33m:\u001b[0m \u001b[1;32mreturn\u001b[0m\u001b[1;33m\u001b[0m\u001b[1;33m\u001b[0m\u001b[0m\n",
      "\u001b[1;31mKeyboardInterrupt\u001b[0m: "
     ]
    }
   ],
   "source": [
    "# Functions failed to run, and timed out. I do not know if this is a convergence issue, or some error in the code\n",
    "_, policy_Value = policy_improvement(env1)"
   ]
  },
  {
   "cell_type": "code",
   "execution_count": null,
   "metadata": {},
   "outputs": [],
   "source": [
    "plt.plot(env1.state_space, policy_Value)\n",
    "plt.xlabel('States')\n",
    "plt.ylabel(\"Value\")"
   ]
  },
  {
   "cell_type": "markdown",
   "metadata": {},
   "source": [
    "## Problem 2"
   ]
  },
  {
   "cell_type": "markdown",
   "metadata": {},
   "source": [
    "Even though  I developed the code for the new environment and the code to get Value for each step, I noticed that the program is not runnable due to a vast state_space and subsequently, Value space. The state_space is now exponentially bigger than that of problem number 1 (101^5), and solving problems using these algorithms is impossible due to the memory constraint. A new method needs to be implemented to solve this new problem "
   ]
  },
  {
   "cell_type": "code",
   "execution_count": 24,
   "metadata": {},
   "outputs": [],
   "source": [
    "class Environment_2:\n",
    "    def __init__(self, bus_capacity, cost_deploy, cost_person, station_capacity\n",
    "                     , gamma, possible_actions, arrival_at_station):\n",
    "        # capacity\n",
    "        self.bus_capacity = bus_capacity\n",
    "        self.station_capacity=station_capacity\n",
    "        \n",
    "        # cost         \n",
    "        self.cost_deploy = cost_deploy\n",
    "        self.cost_person = cost_person\n",
    "\n",
    "        # action and state space\n",
    "        temp = [list(range(0, self.station_capacity+1)) for i in range(0,len(cost_person))]\n",
    "        self.state_space = list(itertools.product(*temp))            \n",
    "        self.action_space = np.array(possible_actions)\n",
    "        \n",
    "        # status of station\n",
    "        uniform_probability=1/len(arrival_at_station)\n",
    "        temp = [[i,uniform_probability] for i in arrival_at_station]\n",
    "        self.arrival=np.matrix(temp)\n",
    "        \n",
    "        # discount\n",
    "        self.gamma = gamma\n",
    "\n",
    "    def reward(self, action, state):\n",
    "        return action*self.cost_deploy+state*self.cost_person\n",
    "    \n",
    "    def check_station_capacity(self,state, action):\n",
    "        return state>self.station_capacity"
   ]
  },
  {
   "cell_type": "code",
   "execution_count": 26,
   "metadata": {},
   "outputs": [],
   "source": [
    "def next_step_2(state, Value, env):\n",
    "        values_at_step = np.zeros(env.action_space.shape[0])\n",
    "        \n",
    "        for action in env.action_space:\n",
    "            if env.check_station_capacity(state,action) and action==0:\n",
    "                values_at_step[action] = -100000000\n",
    "                continue\n",
    "            \n",
    "            # states\n",
    "            boarding=action*env.bus_capacity\n",
    "            possible_states=list(state)\n",
    "            \n",
    "            for index,state in enumerate(state):\n",
    "                if boarding<=state:\n",
    "                    possible_states[i]=state-boarding\n",
    "                    break\n",
    "                else:\n",
    "                    possible_states[i]=0\n",
    "                    boarding -= state\n",
    "            \n",
    "            state_after_action = possible_states\n",
    "            next_possible_states = next_states_helper(possible_states, action, env)\n",
    "\n",
    "            # value calculation\n",
    "            expected_value=0\n",
    "            for nps in next_possible_states:\n",
    "                if nps[0,0]<env.state_space.shape[0]:\n",
    "                    expected_value +=  env.gamma * Value[int(nps[0,0])]*nps[0,1]\n",
    "                else:\n",
    "                    break\n",
    "            \n",
    "            calc_value=env.reward(action, state_after_action)+expected_value\n",
    "            values_at_step[action] = calc_value\n",
    "            \n",
    "        return values_at_step"
   ]
  },
  {
   "cell_type": "code",
   "execution_count": 27,
   "metadata": {
    "tags": []
   },
   "outputs": [],
   "source": [
    "def next_states_helper(possible_states, action, env):  \n",
    "    new_state = [[st+ar[0,0] for ar in env.arrival] for st in possible_states] \n",
    "    all_state = {i:env.p**env.n_types for i in env.state_space}\n",
    "    \n",
    "    temp_dict = {}\n",
    "    for state in list(all_state):\n",
    "        temp_state = tuple(min(env.station_capacity,st) for st in state)\n",
    "        if temp_state != state:\n",
    "            if temp_state in temp_dict:\n",
    "                temp_dict[temp_state] += all_state.pop(state)     \n",
    "            else:\n",
    "                temp_dict[temp_state] = all_state.pop(state)\n",
    "                \n",
    "    for state in temp_dict:\n",
    "        if state in all_state:\n",
    "            all_state[state] += temp_dict[state] \n",
    "        else:\n",
    "            all_state[state] = temp_dict[state] \n",
    "    return all_state"
   ]
  },
  {
   "cell_type": "code",
   "execution_count": null,
   "metadata": {},
   "outputs": [],
   "source": [
    "env2=Environment_2(bus_capacity=30, cost_deploy= -100, cost_person= [1, 1.5, 2, 2.5, 3], station_capacity=100\n",
    "                    , gamma = 0.95, possible_actions=[0,1], arrival_at_station = [1,2,3,4,5])"
   ]
  },
  {
   "cell_type": "markdown",
   "metadata": {
    "tags": []
   },
   "source": [
    "### a) Enumeration"
   ]
  },
  {
   "cell_type": "code",
   "execution_count": 10,
   "metadata": {},
   "outputs": [
    {
     "name": "stderr",
     "output_type": "stream",
     "text": [
      "\n",
      "KeyboardInterrupt\n",
      "\n"
     ]
    }
   ],
   "source": [
    "enumeration2_value=enumeration(500,env)"
   ]
  },
  {
   "cell_type": "markdown",
   "metadata": {
    "tags": []
   },
   "source": [
    "### b) Value Iteration"
   ]
  },
  {
   "cell_type": "code",
   "execution_count": null,
   "metadata": {},
   "outputs": [],
   "source": [
    "value2_Value=value_iteration(1000,env2)"
   ]
  },
  {
   "cell_type": "markdown",
   "metadata": {},
   "source": [
    "### C) Policy Iteration"
   ]
  },
  {
   "cell_type": "code",
   "execution_count": null,
   "metadata": {},
   "outputs": [],
   "source": [
    "_, policy2_Value = policy_improvement(env2)"
   ]
  }
 ],
 "metadata": {
  "kernelspec": {
   "display_name": "Python 3",
   "language": "python",
   "name": "python3"
  },
  "language_info": {
   "codemirror_mode": {
    "name": "ipython",
    "version": 3
   },
   "file_extension": ".py",
   "mimetype": "text/x-python",
   "name": "python",
   "nbconvert_exporter": "python",
   "pygments_lexer": "ipython3",
   "version": "3.8.3"
  }
 },
 "nbformat": 4,
 "nbformat_minor": 5
}
